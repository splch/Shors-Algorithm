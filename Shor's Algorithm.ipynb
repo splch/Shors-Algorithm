{
 "cells": [
  {
   "cell_type": "markdown",
   "metadata": {},
   "source": [
    "<img src=\"imgs/qiskit.png\" alt=\"QisKit\" style=\"width: 50px;\" align=\"right\"/>\n",
    "\n",
    "# Shor's Algorithm - Final Project\n",
    "\n",
    "<hr>\n",
    "\n",
    "## Qiskit Global Summer School"
   ]
  },
  {
   "cell_type": "markdown",
   "metadata": {},
   "source": [
    "## Introduction\n",
    "   With accelerating computing power, breach of digital security might be viewed as a growing concern. \n",
    "   However, with current encryption methods utilizing prime factorizaiton, it will be a while before security is undermined \n",
    "   by classical computers.\n",
    "   As a given number increases, the time it would take to calculate its prime factorization grows exponentially.\n",
    "   Even with today's fastest computers, it would take thousands of years to generate the correct decryption keys. \n",
    "   However, with quantum computers and Shor's algorithm, this process can take seconds."
   ]
  },
  {
   "cell_type": "markdown",
   "metadata": {},
   "source": [
    "### What is RSA Encryption?\n",
    "\n",
    "Or Rivest-Shamir-Adleman Encryption, is used widely for secure data transmission. \n",
    "The encryption is asymmetric, which means that there are two keys inolved, one public and one private, for the encryption/decryption to work. \n",
    "\n",
    "Think of two complimentary colors:\n",
    "    - if we combine them, we would get white.\n",
    "    - however, retrieving two complimentary colors from white would be incredibly difficult unless a person has access\n",
    "    to one of the colors\n",
    "\n",
    "This is an intuitive, non-mathmetical way to think of how RSA works. \n",
    "\n",
    "####     Asymmetric Algorithm:\n",
    "        - generates a public and private key \n",
    "        - used in the encryption and decryption of data\n",
    "\n",
    "<hr>\n",
    "\n",
    "<img src=\"imgs/rsa.png\" alt=\"RSA Encryption\" style=\"width: 500px;\"/>\n",
    "\n",
    "        - utilizes the fact that it is extremely hard to find the prime factors of a large composite (semiprime) number\n",
    "\n",
    "<center>$a \\times b = 15$</center>\n",
    "        \n",
    "        - labeled the \"prime factorization problem\"\n",
    "\n",
    "\n",
    "The multiplication of these two numbers is _considerably_ more simple"
   ]
  },
  {
   "cell_type": "markdown",
   "metadata": {},
   "source": [
    "#### Prime Numbers\n",
    "\n",
    "<hr>\n",
    "\n",
    "<img src=\"imgs/primes.png\" alt=\"Prime Visual - Wikimedia Commons\" style=\"width: 235px;\"/>\n",
    "\n",
    "<br>\n",
    "\n",
    "|  Composite numbers  |  Prime numbers  |\n",
    "|:---:|:---:|\n",
    "|  1  |     |\n",
    "|     |  2  |\n",
    "|     |  3  |\n",
    "|  4  |     |\n",
    "|     |  5  |\n",
    "|  6  |     |\n",
    "|     |  7  |\n",
    "|  8  |     |\n",
    "|  9  |     |"
   ]
  },
  {
   "cell_type": "code",
   "execution_count": 1,
   "metadata": {},
   "outputs": [
    {
     "name": "stdout",
     "output_type": "stream",
     "text": [
      "3 x 5 = 15\n"
     ]
    }
   ],
   "source": [
    "a = 3\n",
    "b = 5\n",
    "\n",
    "print(f\"{a} x {b} = {a * b}\") # Demonstration of simple multiplication"
   ]
  },
  {
   "cell_type": "markdown",
   "metadata": {},
   "source": [
    "#### Finding Primes\n",
    "\n",
    "Sieve of Eratosthenes:  2000 year old bruteforce method for finding coprime numbers.\n",
    "    \n",
    "<img src=\"imgs/sieve.png\" alt=\"Sieve of Eratosthenes\" style=\"width: 400px;\"/>"
   ]
  },
  {
   "cell_type": "code",
   "execution_count": 2,
   "metadata": {
    "scrolled": false
   },
   "outputs": [],
   "source": [
    "# import libraries for RSA\n",
    "from math import gcd, sqrt, log, ceil # used in RSA and Shor's algorithm\n",
    "from numpy.random import randint"
   ]
  },
  {
   "cell_type": "code",
   "execution_count": 3,
   "metadata": {},
   "outputs": [],
   "source": [
    "def Sieve_of_Eratosthenes(n, isPrime):\n",
    "    isPrime[0], isPrime[1] = False, False\n",
    "    for i in range(2, n + 1):\n",
    "        isPrime[i] = True\n",
    "    for p in range(2, int(sqrt(n)) + 1):\n",
    "        if isPrime[p] == True:\n",
    "            for i in range(p * 2, n + 1, p):\n",
    "                isPrime[i] = False\n",
    "\n",
    "def find_primes(n):\n",
    "    isPrime = [False] * (n + 1)\n",
    "    Sieve_of_Eratosthenes(n, isPrime)\n",
    "    for i in range(2, n):\n",
    "        x = int(n / i)\n",
    "        if isPrime[i] & isPrime[x] and x != i and x * i == n:\n",
    "            return i, x"
   ]
  },
  {
   "cell_type": "code",
   "execution_count": 4,
   "metadata": {},
   "outputs": [
    {
     "name": "stdout",
     "output_type": "stream",
     "text": [
      "3 x 5 = 15\n"
     ]
    }
   ],
   "source": [
    "c, d = find_primes(3 * 5)\n",
    "print(f\"{c} x {d} = {a * b}\") # Demonstrate the difficulty in finding prime factors"
   ]
  },
  {
   "cell_type": "markdown",
   "metadata": {},
   "source": [
    "#### RSA Algorithm Implementation"
   ]
  },
  {
   "cell_type": "markdown",
   "metadata": {},
   "source": [
    "We can use two distinct primes to create a public and private key used to encrypt and decrypt respectively."
   ]
  },
  {
   "cell_type": "markdown",
   "metadata": {},
   "source": [
    "Let's use P and Q as our two distinct prime numbers"
   ]
  },
  {
   "cell_type": "code",
   "execution_count": 5,
   "metadata": {},
   "outputs": [],
   "source": [
    "P = 3\n",
    "Q = 5"
   ]
  },
  {
   "cell_type": "markdown",
   "metadata": {},
   "source": [
    "#### What are public/ private keys?\n",
    "\n",
    "Key Visual\n",
    "<img src=\"imgs/keys.png\" alt=\"Public/ Private Key Visual\" style=\"width: 300px;\"/>"
   ]
  },
  {
   "cell_type": "markdown",
   "metadata": {},
   "source": [
    "Create a function to generate public and private RSA keys"
   ]
  },
  {
   "cell_type": "code",
   "execution_count": 6,
   "metadata": {},
   "outputs": [],
   "source": [
    "def rsa(P, Q):\n",
    "    N = P * Q # modulus <-- the hard number to crack!\n",
    "    \n",
    "    if N % 2 == 0:\n",
    "        val = P if P % 2 == 0 else Q\n",
    "        raise ValueError(f\"{N} can not be divisible by 2. {P} and {Q} are incompatible with Shor's Algorithm.\")\n",
    "        \n",
    "    \n",
    "    L = (Q - 1) * (P - 1) # number of non-common factors (1, N)\n",
    "\n",
    "    for E in range(2, L): # between (2, L)\n",
    "        if gcd(L, E) * gcd(N, E) == 1: # coprime with both L and N\n",
    "            break # E is public value\n",
    "\n",
    "    D = 1\n",
    "    while True:\n",
    "        if D * E % L == 1 and D != E and D != N:\n",
    "            break # D is private value\n",
    "        D += 1\n",
    "\n",
    "    return ((E, N), (D, N))"
   ]
  },
  {
   "cell_type": "code",
   "execution_count": 7,
   "metadata": {},
   "outputs": [
    {
     "name": "stdout",
     "output_type": "stream",
     "text": [
      "Public key: (7, 15)\n",
      "Private key: (23, 15)\n"
     ]
    }
   ],
   "source": [
    "pub_key, priv_key = rsa(P, Q)\n",
    "print(\"Public key:\", pub_key) # Public key used for encryption\n",
    "print(\"Private key:\", priv_key) # Public key used for decryption"
   ]
  },
  {
   "cell_type": "markdown",
   "metadata": {},
   "source": [
    "We can now encrypt a super secret string"
   ]
  },
  {
   "cell_type": "code",
   "execution_count": 8,
   "metadata": {},
   "outputs": [
    {
     "name": "stdout",
     "output_type": "stream",
     "text": [
      "Super secret string: IBM\n"
     ]
    }
   ],
   "source": [
    "string = \"ibm\"\n",
    "string = string.upper()\n",
    "print(\"Super secret string:\", string)\n",
    "\n",
    "inter = [ord(char)-ord('A') for char in string]"
   ]
  },
  {
   "cell_type": "code",
   "execution_count": 9,
   "metadata": {},
   "outputs": [],
   "source": [
    "def enc(code, key):\n",
    "    E, N = key\n",
    "    return (code**E) % N\n",
    "\n",
    "def dec(code, key):\n",
    "    D, N = key\n",
    "    return (code**D) % N"
   ]
  },
  {
   "cell_type": "code",
   "execution_count": 10,
   "metadata": {},
   "outputs": [
    {
     "name": "stdout",
     "output_type": "stream",
     "text": [
      "Encoded string: CBD\n"
     ]
    }
   ],
   "source": [
    "encoded = [enc(val, pub_key) for val in inter]\n",
    "enc_str = \"\".join([chr(i+ord('A')) for i in encoded]) # Encrypted string\n",
    "print(\"Encoded string:\", enc_str)"
   ]
  },
  {
   "cell_type": "code",
   "execution_count": 11,
   "metadata": {},
   "outputs": [
    {
     "name": "stdout",
     "output_type": "stream",
     "text": [
      "Decoded string: IBM\n"
     ]
    }
   ],
   "source": [
    "decoded = [chr(dec(val, priv_key)+ord('A')) for val in encoded]\n",
    "print(\"Decoded string:\", ''.join(decoded))"
   ]
  },
  {
   "cell_type": "markdown",
   "metadata": {},
   "source": [
    "*Keep in mind, this is a very simple and ineffective implementation of RSA encryption. The goal of this tutorial is to demonstrate Peter Shor's factoring algorithm applied to a situation not best RSA encryption practices.*"
   ]
  },
  {
   "cell_type": "markdown",
   "metadata": {},
   "source": [
    "### Shor's Algorithm\n",
    "\n",
    "<hr>\n",
    "\n",
    "<img src=\"imgs/shors.png\" alt=\"Prime Visual - Wikimedia Commons\" style=\"width: 400px;\"/>\n",
    "\n",
    "Shor's Algorithm quickly determines two distinct prime numbers which multiply to produce a given number."
   ]
  },
  {
   "cell_type": "markdown",
   "metadata": {},
   "source": [
    "Let's assume we don't have access to the private key\n",
    "\n",
    "Instead, all we have is the __encoded text__ and __public key__. Your mission, should you choose to accept it, is to find what the decoded text is with Shor's algorithm."
   ]
  },
  {
   "cell_type": "code",
   "execution_count": 12,
   "metadata": {},
   "outputs": [
    {
     "name": "stdout",
     "output_type": "stream",
     "text": [
      "You are assigned a mission on the following notecard:\n",
      "\n",
      "  _____________________\n",
      " |                     |\n",
      " | Decrypt this secret:|\n",
      " |                     |\n",
      " | Encoded string: CBD |\n",
      " | Public key: (7, 15) |\n",
      " |                     |\n",
      " |_____________________|\n"
     ]
    }
   ],
   "source": [
    "E, N = pub_key\n",
    "\n",
    "print(\"You are assigned a mission on the following notecard:\\n\\n\",\n",
    "        f\" {(18 + len(enc_str))*'_'}\\n\",\n",
    "        \"|\", (16 + len(enc_str))*' ', \"|\\n\",\n",
    "        \"| Decrypt this secret:|\\n\",\n",
    "        \"|\", (16 + len(enc_str))*' ', \"|\\n\",\n",
    "        f\"| Encoded string: {enc_str} |\\n\",\n",
    "        f\"| Public key: {pub_key} |\\n\",\n",
    "        \"|\", (16 + len(enc_str))*' ', \"|\\n\",\n",
    "        f\"|{(18 + len(enc_str))*'_'}|\")"
   ]
  },
  {
   "cell_type": "code",
   "execution_count": 13,
   "metadata": {},
   "outputs": [],
   "source": [
    "def dec_guess(string, key):\n",
    "    D, N = key\n",
    "    return \"\".join([chr((((ord(char) - ord('A'))**D) % N) + ord('A')) for char in string])"
   ]
  },
  {
   "cell_type": "markdown",
   "metadata": {},
   "source": [
    "Here we can observe that random guesses would be infeasible for larger primes"
   ]
  },
  {
   "cell_type": "code",
   "execution_count": 14,
   "metadata": {},
   "outputs": [
    {
     "name": "stdout",
     "output_type": "stream",
     "text": [
      "BBB\n",
      "CBD\n",
      "EBJ\n"
     ]
    }
   ],
   "source": [
    "for i in range(3):\n",
    "    print(dec_guess(enc_str, (i, N)))"
   ]
  },
  {
   "cell_type": "markdown",
   "metadata": {},
   "source": [
    "## Shor's Algorithm"
   ]
  },
  {
   "cell_type": "markdown",
   "metadata": {},
   "source": [
    "15 % 2 = 1\n",
    "<br>\n",
    "7 % 2 = 1\n",
    "<br>\n",
    "3 % 2 = 1\n",
    "<br>\n",
    "1 % 2 = 1\n",
    "<br>\n",
    "\n",
    "15 is represented as 1111 in binary!"
   ]
  },
  {
   "cell_type": "code",
   "execution_count": 15,
   "metadata": {},
   "outputs": [
    {
     "name": "stdout",
     "output_type": "stream",
     "text": [
      "A quantum computer with 11 qubits is required to factor 15.\n"
     ]
    }
   ],
   "source": [
    "N_binary = bin(N)[2:]\n",
    "qs = 2 * len(N_binary) + 3\n",
    "print(f\"A quantum computer with {qs} qubits is required to factor {N}.\")"
   ]
  },
  {
   "cell_type": "code",
   "execution_count": 16,
   "metadata": {},
   "outputs": [],
   "source": [
    "from qiskit import IBMQ\n",
    "from qiskit.aqua import QuantumInstance\n",
    "from qiskit.aqua.algorithms import Shor\n",
    "\n",
    "from tabulate import tabulate\n",
    "from fractions import Fraction"
   ]
  },
  {
   "cell_type": "code",
   "execution_count": 17,
   "metadata": {},
   "outputs": [
    {
     "name": "stdout",
     "output_type": "stream",
     "text": [
      "N = 15\n",
      "a = 8\n"
     ]
    }
   ],
   "source": [
    "a = 0\n",
    "while a == 0:\n",
    "    b = randint(2, N)\n",
    "    if gcd(b, N) == 1:\n",
    "        a = b\n",
    "        \n",
    "print(f\"N = {N}\\na = {a}\")"
   ]
  },
  {
   "cell_type": "code",
   "execution_count": 18,
   "metadata": {},
   "outputs": [],
   "source": [
    "IBMQ.enable_account('ff7b7f43d8ed961867f6638374abf00274866beb9c65ff22dc8d77c57d82f6fa02dbc0280f9a9afaaaee5041ee56bb2c6ce0ffbe966a70a1f08f4cdb24f3bb1d') # Enter your API token here\n",
    "provider = IBMQ.get_provider(hub='ibm-q')\n",
    "backend = provider.get_backend('ibmq_qasm_simulator')"
   ]
  },
  {
   "cell_type": "code",
   "execution_count": 19,
   "metadata": {},
   "outputs": [
    {
     "name": "stdout",
     "output_type": "stream",
     "text": [
      "P = 3\n",
      "Q = 5\n"
     ]
    }
   ],
   "source": [
    "q = Shor(N, a)\n",
    "\n",
    "result = []\n",
    "while result == []:\n",
    "    results = q.run(QuantumInstance(backend, shots=1, optimization_level=None, skip_qobj_validation=False))\n",
    "    result = results['factors']\n",
    "\n",
    "print(f\"P = {result[0][0]}\\nQ = {result[0][1]}\")"
   ]
  },
  {
   "cell_type": "markdown",
   "metadata": {},
   "source": [
    "Now, we can finally achieve our goal of decrypting the secret message!"
   ]
  },
  {
   "cell_type": "code",
   "execution_count": 20,
   "metadata": {},
   "outputs": [
    {
     "name": "stdout",
     "output_type": "stream",
     "text": [
      "Secret Message: IBM\n"
     ]
    }
   ],
   "source": [
    "_, key = rsa(result[0][0], result[0][1])\n",
    "decoded = [chr(dec(val, key)+ord('A')) for val in encoded]\n",
    "print(\"Secret Message:\", ''.join(decoded))"
   ]
  },
  {
   "cell_type": "markdown",
   "metadata": {},
   "source": [
    "## Sources\n",
    "\n",
    "- https://qiskit.org/textbook/ch-algorithms/shor.html\n",
    "- https://arxiv.org/abs/quant-ph/0205095\n",
    "- https://exploitbyte.com/rsa-algorithm/\n",
    "- https://www.geeksforgeeks.org/find-two-distinct-prime-numbers-with-given-product/"
   ]
  }
 ],
 "metadata": {
  "kernelspec": {
   "display_name": "Python 3",
   "language": "python",
   "name": "python3"
  },
  "language_info": {
   "codemirror_mode": {
    "name": "ipython",
    "version": 3
   },
   "file_extension": ".py",
   "mimetype": "text/x-python",
   "name": "python",
   "nbconvert_exporter": "python",
   "pygments_lexer": "ipython3",
   "version": "3.7.7"
  }
 },
 "nbformat": 4,
 "nbformat_minor": 2
}
