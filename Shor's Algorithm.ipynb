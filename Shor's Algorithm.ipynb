{
 "cells": [
  {
   "cell_type": "markdown",
   "metadata": {},
   "source": [
    "<img src=\"imgs/qiskit.png\" alt=\"QisKit\" style=\"width: 50px;\" align=\"right\"/>\n",
    "\n",
    "# Shor's Algorithm\n",
    "\n",
    "<hr>\n",
    "\n",
    "## Teach Me Qiskit"
   ]
  },
  {
   "cell_type": "code",
   "execution_count": 1,
   "metadata": {},
   "outputs": [],
   "source": [
    "import random\n",
    "\n",
    "try:\n",
    "    import qiskit\n",
    "except: # if qiskit is not installed\n",
    "    print(\"Installing Qiskit\")\n",
    "    !pip install qiskit"
   ]
  },
  {
   "cell_type": "markdown",
   "metadata": {},
   "source": [
    "### Prime Numbers\n",
    "\n",
    "<hr>\n",
    "\n",
    "<img src=\"imgs/primes.png\" alt=\"Prime Visual - Wikimedia Commons\" style=\"width: 300px;\"/>\n",
    "\n",
    "<br>\n",
    "\n",
    "|  Composite numbers  |  Prime numbers  |\n",
    "|:---:|:---:|\n",
    "|  1  |     |\n",
    "|     |  2  |\n",
    "|     |  3  |\n",
    "|  4  |     |\n",
    "|     |  5  |\n",
    "|  6  |     |\n",
    "|     |  7  |\n",
    "|  8  |     |\n",
    "|  9  |     |\n",
    "\n"
   ]
  },
  {
   "cell_type": "code",
   "execution_count": 2,
   "metadata": {},
   "outputs": [
    {
     "name": "stdout",
     "output_type": "stream",
     "text": [
      "2\n",
      "3\n",
      "5\n",
      "7\n"
     ]
    }
   ],
   "source": [
    "# https://stackoverflow.com/questions/11619942/print-series-of-prime-numbers-in-python\n",
    "\n",
    "for num in range(2, 10):\n",
    "    if all(num % i != 0 for i in range(2, num)):\n",
    "        print(num)"
   ]
  },
  {
   "cell_type": "markdown",
   "metadata": {},
   "source": [
    "### RSA Encryption\n",
    "\n",
    "<hr>\n",
    "\n",
    "<img src=\"imgs/rsa.jpg\" alt=\"Prime Visual - Wikimedia Commons\" style=\"width: 500px;\"/>\n",
    "\n",
    "Multiplying two numbers is simple"
   ]
  },
  {
   "cell_type": "code",
   "execution_count": 3,
   "metadata": {},
   "outputs": [
    {
     "name": "stdout",
     "output_type": "stream",
     "text": [
      "2 x 3 = 6\n"
     ]
    }
   ],
   "source": [
    "print(f\"2 x 3 = {2 * 3}\")"
   ]
  },
  {
   "cell_type": "markdown",
   "metadata": {},
   "source": [
    "However, determining two numbers which multiplied to produce a certain number is much harder"
   ]
  },
  {
   "cell_type": "code",
   "execution_count": 4,
   "metadata": {},
   "outputs": [],
   "source": [
    "# https://www.geeksforgeeks.org/find-two-distinct-prime-numbers-with-given-product/\n",
    "\n",
    "def Sieve_of_Eratosthenes(n, isPrime) : \n",
    "    isPrime[0], isPrime[1] = False, False\n",
    "    for i in range(2, n + 1) : \n",
    "        isPrime[i] = True\n",
    "    for p in range(2, int(n**.5) + 1) : \n",
    "        if isPrime[p] == True:\n",
    "            for i in range(p * 2, n + 1, p):\n",
    "                isPrime[i] = False\n",
    "\n",
    "def find_primes(n):\n",
    "    isPrime = [False] * (n + 1)\n",
    "    Sieve_of_Eratosthenes(n, isPrime)\n",
    "    for i in range(2, n):\n",
    "        x = int(n / i)\n",
    "        if (isPrime[i] & isPrime[x] and x != i and x * i == n):\n",
    "            print(f\"{i} x {x} = {n}\")\n",
    "            break"
   ]
  },
  {
   "cell_type": "code",
   "execution_count": 5,
   "metadata": {},
   "outputs": [
    {
     "name": "stdout",
     "output_type": "stream",
     "text": [
      "2 x 3 = 6\n"
     ]
    }
   ],
   "source": [
    "find_primes(6)"
   ]
  },
  {
   "cell_type": "markdown",
   "metadata": {},
   "source": [
    "### Shor's Algorithm\n",
    "\n",
    "<hr>\n",
    "\n",
    "<img src=\"imgs/shors.svg\" alt=\"Prime Visual - Wikimedia Commons\" style=\"width: 400px;\"/>\n",
    "\n",
    "Shor's Algorithm quickly determines two distinct prime numbers which multiply to produce a certain number."
   ]
  },
  {
   "cell_type": "markdown",
   "metadata": {},
   "source": [
    "1) Let's use 2 and 3 as our two distinct prime numbers"
   ]
  },
  {
   "cell_type": "code",
   "execution_count": 6,
   "metadata": {},
   "outputs": [],
   "source": [
    "p = 2\n",
    "q = 3"
   ]
  },
  {
   "cell_type": "markdown",
   "metadata": {},
   "source": [
    "2) Now we can define our public key as the product of these two primes"
   ]
  },
  {
   "cell_type": "code",
   "execution_count": 7,
   "metadata": {},
   "outputs": [
    {
     "name": "stdout",
     "output_type": "stream",
     "text": [
      "Public key:  6\n"
     ]
    }
   ],
   "source": [
    "key = p * q\n",
    "print(\"Public key: \", key)"
   ]
  },
  {
   "cell_type": "markdown",
   "metadata": {},
   "source": [
    "3) We now need to encrypt our secret message, \"I love Qiskit!\""
   ]
  },
  {
   "cell_type": "code",
   "execution_count": 8,
   "metadata": {},
   "outputs": [],
   "source": [
    "string = \"I love Qiskit!\""
   ]
  },
  {
   "cell_type": "code",
   "execution_count": null,
   "metadata": {},
   "outputs": [],
   "source": []
  }
 ],
 "metadata": {
  "kernelspec": {
   "display_name": "Python 3",
   "language": "python",
   "name": "python3"
  },
  "language_info": {
   "codemirror_mode": {
    "name": "ipython",
    "version": 3
   },
   "file_extension": ".py",
   "mimetype": "text/x-python",
   "name": "python",
   "nbconvert_exporter": "python",
   "pygments_lexer": "ipython3",
   "version": "3.7.3"
  }
 },
 "nbformat": 4,
 "nbformat_minor": 2
}
