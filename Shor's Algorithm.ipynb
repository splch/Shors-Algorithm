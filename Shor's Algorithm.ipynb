{
 "cells": [
  {
   "cell_type": "markdown",
   "metadata": {},
   "source": [
    "<img src=\"imgs/qiskit.png\" alt=\"QisKit\" style=\"width: 50px;\" align=\"right\"/>\n",
    "\n",
    "# Shor's Algorithm - Final Project\n",
    "## Qiskit Global Summer School\n",
    "\n",
    "<hr>\n",
    "\n",
    "[Spencer Churchill](https://spencerchurchill.github.io)"
   ]
  },
  {
   "cell_type": "code",
   "execution_count": 1,
   "metadata": {
    "scrolled": false
   },
   "outputs": [],
   "source": [
    "# imports for RSA\n",
    "from numpy import pi, mod, gcd, sqrt, log, ceil\n",
    "from numpy.random import seed, randint\n",
    "\n",
    "# imports for Shor\n",
    "from qiskit import QuantumCircuit, Aer, execute\n",
    "from qiskit.visualization import plot_histogram\n",
    "from qiskit.circuit.library import QFT"
   ]
  },
  {
   "cell_type": "markdown",
   "metadata": {},
   "source": [
    "Introduction\n",
    "- walking down wall street\n",
    "- sees shady person drop paper scrap"
   ]
  },
  {
   "cell_type": "code",
   "execution_count": 2,
   "metadata": {},
   "outputs": [],
   "source": [
    "def rsa(P, Q):\n",
    "    N = P * Q # modulus <-- the hard number to crack!\n",
    "    \n",
    "    if N % 2 == 0:\n",
    "        val = P if P % 2 == 0 else Q\n",
    "        raise ValueError(f\"{N} can not be divisible by 2.\",\n",
    "                         f\"{P} and {Q} are incompatible with Shor's Algorithm.\")\n",
    "    \n",
    "    L = (Q - 1) * (P - 1) # number of non-common factors (1, N)\n",
    "    \n",
    "    for E in range(2, L): # between [2, L)\n",
    "        if gcd(L, E) * gcd(N, E) == 1: # coprime with both L and N\n",
    "            break # E is public value\n",
    "\n",
    "    D = 1\n",
    "    while True:\n",
    "        if D * E % L == 1 and D != E and D != N:\n",
    "            break # D is private value\n",
    "        D += 1\n",
    "\n",
    "    return ((E, N), (D, N))\n",
    "\n",
    "def dec_guess(string, key):\n",
    "    D, N = key\n",
    "    return \"\".join([chr((((ord(char) - ord('A'))**D) % N) +\n",
    "                        ord('A')) for char in string])"
   ]
  },
  {
   "cell_type": "markdown",
   "metadata": {
    "scrolled": true
   },
   "source": [
    "- pick up paper scrap and read \"buy `cdm` now. stock will boom! (?, 15)\""
   ]
  },
  {
   "cell_type": "code",
   "execution_count": 3,
   "metadata": {},
   "outputs": [],
   "source": [
    "enc_str = \"CBD\"\n",
    "N = 15"
   ]
  },
  {
   "cell_type": "code",
   "execution_count": 4,
   "metadata": {},
   "outputs": [
    {
     "name": "stdout",
     "output_type": "stream",
     "text": [
      "You know 3 things:\n",
      "\t1. a company is going to report high earnings \n",
      "\t2. that company's encrypted stock listing is 'CBD' and\n",
      "\t3. the key's coprime, N, is 15.\n"
     ]
    }
   ],
   "source": [
    "print(f\"You know 3 things:\\n\\t1. a company is going to report high earnings\",\n",
    "      f\"\\n\\t2. that company's encrypted stock listing is '{enc_str}'\",\n",
    "      f\"and\\n\\t3. the key's coprime, N, is {N}.\")"
   ]
  },
  {
   "cell_type": "markdown",
   "metadata": {},
   "source": [
    "- tries to guess 3 letter string"
   ]
  },
  {
   "cell_type": "code",
   "execution_count": 5,
   "metadata": {},
   "outputs": [
    {
     "name": "stdout",
     "output_type": "stream",
     "text": [
      "BBB\n",
      "CBD\n",
      "EBJ\n"
     ]
    }
   ],
   "source": [
    "P = Q = 0\n",
    "for i in range(3):\n",
    "    print(dec_guess(enc_str, (i, 15)))"
   ]
  },
  {
   "cell_type": "markdown",
   "metadata": {},
   "source": [
    "- give up because it's too much work\n",
    "- realize you watched Abe's lecture on Shor's algorithm"
   ]
  },
  {
   "cell_type": "markdown",
   "metadata": {},
   "source": [
    "Shor's Algorithm"
   ]
  },
  {
   "cell_type": "code",
   "execution_count": 6,
   "metadata": {},
   "outputs": [],
   "source": [
    "def initialize_qubits(given_circuit, n):\n",
    "    given_circuit.h(range(n))\n",
    "    given_circuit.x(-1)\n",
    "\n",
    "def a_x_mod15(a, x):\n",
    "    if a not in [2,7,8,11,13]:\n",
    "        raise ValueError(\"'a' must be 2,7,8,11 or 13\")\n",
    "    U = QuantumCircuit(4)        \n",
    "    for iteration in range(x):\n",
    "        if a in [2,13]:\n",
    "            U.swap(0,1)\n",
    "            U.swap(1,2)\n",
    "            U.swap(2,3)\n",
    "        if a in [7,8]:\n",
    "            U.swap(2,3)\n",
    "            U.swap(1,2)\n",
    "            U.swap(0,1)\n",
    "        if a == 11:\n",
    "            U.swap(1,3)\n",
    "            U.swap(0,2)\n",
    "        if a in [7,11,13]:\n",
    "            for q in range(4):\n",
    "                U.x(q)\n",
    "    U = U.to_gate()\n",
    "    U.name = f\"{a}^{x} % 15\"\n",
    "    c_U = U.control()\n",
    "    return c_U\n",
    "\n",
    "def modular_exponentiation(given_circuit, n, a):\n",
    "    for q in range(n):\n",
    "        given_circuit.append(a_x_mod15(a, 2**q), \n",
    "                     [q] + [i+n for i in range(4)])\n",
    "\n",
    "def apply_iqft(given_circuit, measurement_qubits):\n",
    "    given_circuit.append(QFT(len(measurement_qubits), inverse=True,\n",
    "                             do_swaps=False), measurement_qubits)\n",
    "\n",
    "def shor_program(n, a):\n",
    "    \n",
    "    # set up quantum circuit\n",
    "    shor = QuantumCircuit(n+4, n)\n",
    "    \n",
    "    # initialize the qubits\n",
    "    initialize_qubits(shor, n)\n",
    "    shor.barrier()\n",
    "\n",
    "    # apply modular exponentiation\n",
    "    modular_exponentiation(shor, n, a)\n",
    "    shor.barrier()\n",
    "\n",
    "    # apply inverse QFT\n",
    "    apply_iqft(shor, range(n))\n",
    "    shor.barrier()\n",
    "\n",
    "    # measure the first n qubits\n",
    "    shor.measure(range(n), range(n))\n",
    "    \n",
    "    return shor"
   ]
  },
  {
   "cell_type": "code",
   "execution_count": 7,
   "metadata": {},
   "outputs": [
    {
     "name": "stdout",
     "output_type": "stream",
     "text": [
      "N = 15\n",
      "a = 7\n"
     ]
    }
   ],
   "source": [
    "seed(1) # This is to make sure we get reproduceable results\n",
    "\n",
    "a = 0\n",
    "while a == 0:\n",
    "    b = randint(2, N)\n",
    "    if gcd(b, N) == 1:\n",
    "        a = b\n",
    "\n",
    "print(f\"N = {N}\\na = {a}\")"
   ]
  },
  {
   "cell_type": "code",
   "execution_count": 8,
   "metadata": {},
   "outputs": [
    {
     "data": {
      "text/html": [
       "<pre style=\"word-wrap: normal;white-space: pre;background: #fff0;line-height: 1.1;font-family: &quot;Courier New&quot;,Courier,monospace\">     ┌───┐ ░                                         ░ ┌──────┐ ░ ┌─┐      \n",
       "q_0: ┤ H ├─░───────■─────────────────────────────────░─┤0     ├─░─┤M├──────\n",
       "     ├───┤ ░       │                                 ░ │      │ ░ └╥┘┌─┐   \n",
       "q_1: ┤ H ├─░───────┼────────────■────────────────────░─┤1 qft ├─░──╫─┤M├───\n",
       "     ├───┤ ░       │            │                    ░ │      │ ░  ║ └╥┘┌─┐\n",
       "q_2: ┤ H ├─░───────┼────────────┼────────────■───────░─┤2     ├─░──╫──╫─┤M├\n",
       "     └───┘ ░ ┌────┴┼─────┐┌────┴┼─────┐┌────┴┼─────┐ ░ └──────┘ ░  ║  ║ └╥┘\n",
       "q_3: ──────░─┤0    │     ├┤0    │     ├┤0    │     ├─░──────────░──╫──╫──╫─\n",
       "           ░ │           ││           ││           │ ░          ░  ║  ║  ║ \n",
       "q_4: ──────░─┤1          ├┤1          ├┤1          ├─░──────────░──╫──╫──╫─\n",
       "           ░ │  7^1 % 15 ││  7^2 % 15 ││  7^4 % 15 │ ░          ░  ║  ║  ║ \n",
       "q_5: ──────░─┤2          ├┤2          ├┤2          ├─░──────────░──╫──╫──╫─\n",
       "     ┌───┐ ░ │           ││           ││           │ ░          ░  ║  ║  ║ \n",
       "q_6: ┤ X ├─░─┤3          ├┤3          ├┤3          ├─░──────────░──╫──╫──╫─\n",
       "     └───┘ ░ └───────────┘└───────────┘└───────────┘ ░          ░  ║  ║  ║ \n",
       "c_0: ══════════════════════════════════════════════════════════════╩══╬══╬═\n",
       "                                                                      ║  ║ \n",
       "c_1: ═════════════════════════════════════════════════════════════════╩══╬═\n",
       "                                                                         ║ \n",
       "c_2: ════════════════════════════════════════════════════════════════════╩═\n",
       "                                                                           </pre>"
      ],
      "text/plain": [
       "     ┌───┐ ░                                         ░ ┌──────┐ ░ ┌─┐      \n",
       "q_0: ┤ H ├─░───────■─────────────────────────────────░─┤0     ├─░─┤M├──────\n",
       "     ├───┤ ░       │                                 ░ │      │ ░ └╥┘┌─┐   \n",
       "q_1: ┤ H ├─░───────┼────────────■────────────────────░─┤1 qft ├─░──╫─┤M├───\n",
       "     ├───┤ ░       │            │                    ░ │      │ ░  ║ └╥┘┌─┐\n",
       "q_2: ┤ H ├─░───────┼────────────┼────────────■───────░─┤2     ├─░──╫──╫─┤M├\n",
       "     └───┘ ░ ┌────┴┼─────┐┌────┴┼─────┐┌────┴┼─────┐ ░ └──────┘ ░  ║  ║ └╥┘\n",
       "q_3: ──────░─┤0    │     ├┤0    │     ├┤0    │     ├─░──────────░──╫──╫──╫─\n",
       "           ░ │           ││           ││           │ ░          ░  ║  ║  ║ \n",
       "q_4: ──────░─┤1          ├┤1          ├┤1          ├─░──────────░──╫──╫──╫─\n",
       "           ░ │  7^1 % 15 ││  7^2 % 15 ││  7^4 % 15 │ ░          ░  ║  ║  ║ \n",
       "q_5: ──────░─┤2          ├┤2          ├┤2          ├─░──────────░──╫──╫──╫─\n",
       "     ┌───┐ ░ │           ││           ││           │ ░          ░  ║  ║  ║ \n",
       "q_6: ┤ X ├─░─┤3          ├┤3          ├┤3          ├─░──────────░──╫──╫──╫─\n",
       "     └───┘ ░ └───────────┘└───────────┘└───────────┘ ░          ░  ║  ║  ║ \n",
       "c_0: ══════════════════════════════════════════════════════════════╩══╬══╬═\n",
       "                                                                      ║  ║ \n",
       "c_1: ═════════════════════════════════════════════════════════════════╩══╬═\n",
       "                                                                         ║ \n",
       "c_2: ════════════════════════════════════════════════════════════════════╩═\n",
       "                                                                           "
      ]
     },
     "execution_count": 8,
     "metadata": {},
     "output_type": "execute_result"
    }
   ],
   "source": [
    "n = 3\n",
    "\n",
    "mycircuit = shor_program(n, a)\n",
    "mycircuit.draw(output='text')"
   ]
  },
  {
   "cell_type": "code",
   "execution_count": 9,
   "metadata": {
    "scrolled": false
   },
   "outputs": [
    {
     "data": {
      "image/png": "[encoded data removed]",
      "text/plain": [
       "<Figure size 504x360 with 1 Axes>"
      ]
     },
     "execution_count": 9,
     "metadata": {},
     "output_type": "execute_result"
    }
   ],
   "source": [
    "simulator = Aer.get_backend('qasm_simulator')\n",
    "counts = execute(mycircuit, backend=simulator).result().get_counts(mycircuit)\n",
    "\n",
    "plot_histogram(counts)"
   ]
  },
  {
   "cell_type": "code",
   "execution_count": 10,
   "metadata": {},
   "outputs": [
    {
     "name": "stdout",
     "output_type": "stream",
     "text": [
      "Measured:\t0\t2\t4\t6\t"
     ]
    }
   ],
   "source": [
    "counts_dec = sorted([int(measured_value[::-1], 2) for measured_value in counts])\n",
    "\n",
    "print(\"Measured:\", end='\\t')\n",
    "for measured_value in counts_dec:\n",
    "    print(measured_value, end='\\t')"
   ]
  },
  {
   "cell_type": "code",
   "execution_count": 11,
   "metadata": {},
   "outputs": [
    {
     "name": "stdout",
     "output_type": "stream",
     "text": [
      "P = 3\n",
      "Q = 5\n"
     ]
    }
   ],
   "source": [
    "factors = set()\n",
    "\n",
    "for measured_value in counts_dec:\n",
    "    if measured_value % 2 == 0:\n",
    "        x = int((a ** (measured_value/2)) % N)\n",
    "        if (x + 1) % N != 0:\n",
    "            guesses = [gcd(x + 1, N), gcd(x - 1, N)]\n",
    "            for guess in guesses:\n",
    "                if guess != 1 and guess != N and N % guess == 0:\n",
    "                    factors.add(guess)\n",
    "\n",
    "if len(factors) == 2:\n",
    "    P = factors.pop()\n",
    "    Q = factors.pop()\n",
    "    print(f\"P = {P}\\nQ = {Q}\")\n",
    "else:\n",
    "    print(\"Shor's Algorithm Failed. Choose a different 'a'.\")"
   ]
  },
  {
   "cell_type": "markdown",
   "metadata": {},
   "source": [
    "- Use P and Q to retrieve the first half of the key"
   ]
  },
  {
   "cell_type": "code",
   "execution_count": 12,
   "metadata": {
    "scrolled": true
   },
   "outputs": [
    {
     "name": "stdout",
     "output_type": "stream",
     "text": [
      "Using RSA and Shor's Algorithm, you determine the private key to be (23, 15)\n"
     ]
    }
   ],
   "source": [
    "_, priv_key = rsa(P, Q)\n",
    "print(\"Using RSA and Shor's Algorithm,\",\n",
    "      f\"you determine the private key to be {priv_key}\")"
   ]
  },
  {
   "cell_type": "markdown",
   "metadata": {},
   "source": [
    "- now you use that key to decrypt the stock listing"
   ]
  },
  {
   "cell_type": "code",
   "execution_count": 13,
   "metadata": {},
   "outputs": [
    {
     "name": "stdout",
     "output_type": "stream",
     "text": [
      "You find that the decrypted listing is IBM!\n"
     ]
    }
   ],
   "source": [
    "dec_str = dec_guess(enc_str, priv_key)\n",
    "print(f\"You find that the decrypted listing is {dec_str}!\")"
   ]
  },
  {
   "cell_type": "markdown",
   "metadata": {},
   "source": [
    "- being the smart quantum programmer that you are, you decide (not) to buy IBM stock. you enjoy the rest of your day knowing you did the right thing."
   ]
  },
  {
   "cell_type": "markdown",
   "metadata": {},
   "source": [
    "## Sources\n",
    "\n",
    "- [Qiskit Textbook - Shor's Algorithm](https://qiskit.org/textbook/ch-algorithms/shor.html)\n",
    "- [Qiskit Lecture](https://www.crowdcast.io/e/qgss-day4)\n",
    "- [RSA Tutorial](https://hackernoon.com/how-does-rsa-work-f44918df914b)"
   ]
  }
 ],
 "metadata": {
  "kernelspec": {
   "display_name": "Python 3",
   "language": "python",
   "name": "python3"
  },
  "language_info": {
   "codemirror_mode": {
    "name": "ipython",
    "version": 3
   },
   "file_extension": ".py",
   "mimetype": "text/x-python",
   "name": "python",
   "nbconvert_exporter": "python",
   "pygments_lexer": "ipython3",
   "version": "3.7.7"
  }
 },
 "nbformat": 4,
 "nbformat_minor": 2
}
