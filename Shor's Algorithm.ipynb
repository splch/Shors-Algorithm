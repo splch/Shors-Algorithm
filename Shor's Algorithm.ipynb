{
 "cells": [
  {
   "cell_type": "markdown",
   "metadata": {},
   "source": [
    "<img src=\"imgs/qiskit.png\" alt=\"QisKit\" style=\"width: 50px;\" align=\"right\"/>\n",
    "\n",
    "# Shor's Algorithm\n",
    "\n",
    "<hr>\n",
    "\n",
    "## Teach Me Qiskit"
   ]
  },
  {
   "cell_type": "code",
   "execution_count": 1,
   "metadata": {
    "scrolled": false
   },
   "outputs": [],
   "source": [
    "from math import gcd, sqrt, log, ceil # used in RSA and Shor's algorithm\n",
    "\n",
    "try:\n",
    "    import qiskit\n",
    "except:\n",
    "    !pip install qiskit\n",
    "\n",
    "from qiskit import *\n",
    "from qiskit.tools.monitor import job_monitor\n",
    "from qiskit.tools.visualization import plot_histogram\n",
    "from qiskit.aqua.algorithms import Shor\n",
    "\n",
    "IBMQ.save_account(\"ff7b7f43d8ed961867f6638374abf00274866beb9c65ff22dc8d77c57d82f6fa02dbc0280f9a9afaaaee5041ee56bb2c6ce0ffbe966a70a1f08f4cdb24f3bb1d\", overwrite=True)\n",
    "IBMQ.load_account()\n",
    "provider = IBMQ.get_provider(\"ibm-q\")\n",
    "\n",
    "from IPython import get_ipython\n",
    "#get_ipython().run_line_magic('matplotlib', 'inline')"
   ]
  },
  {
   "cell_type": "markdown",
   "metadata": {},
   "source": [
    "### Prime Numbers\n",
    "\n",
    "<hr>\n",
    "\n",
    "<img src=\"imgs/primes.png\" alt=\"Prime Visual - Wikimedia Commons\" style=\"width: 235px;\"/>\n",
    "\n",
    "<br>\n",
    "\n",
    "|  Composite numbers  |  Prime numbers  |\n",
    "|:---:|:---:|\n",
    "|  1  |     |\n",
    "|     |  2  |\n",
    "|     |  3  |\n",
    "|  4  |     |\n",
    "|     |  5  |\n",
    "|  6  |     |\n",
    "|     |  7  |\n",
    "|  8  |     |\n",
    "|  9  |     |"
   ]
  },
  {
   "cell_type": "code",
   "execution_count": 2,
   "metadata": {},
   "outputs": [
    {
     "name": "stdout",
     "output_type": "stream",
     "text": [
      "2\n",
      "3\n",
      "5\n",
      "7\n"
     ]
    }
   ],
   "source": [
    "# https://stackoverflow.com/questions/11619942/print-series-of-prime-numbers-in-python\n",
    "\n",
    "# all of the prime numbers between 2 and 10 (1 is not considered \"prime\")\n",
    "for num in range(2, 10):\n",
    "    if all(num % i != 0 for i in range(2, num)):\n",
    "        print(num)"
   ]
  },
  {
   "cell_type": "markdown",
   "metadata": {},
   "source": [
    "### What is RSA Encryption?\n",
    "\n",
    "####     Asymmetric Algorithm:\n",
    "        - generates a public and private key \n",
    "        - used in the encryption and decryption of data\n",
    "\n",
    "<hr>\n",
    "\n",
    "<img src=\"imgs/rsa.png\" alt=\"RSA Encryption\" style=\"width: 500px;\"/>\n",
    "\n",
    "        - utilizes the fact that it is extremely hard to find the prime factors of a large composite (semiprime) number\n",
    "\n",
    "<center>$a \\times b = 6$</center>\n",
    "        \n",
    "        - labeled the \"prime factorization problem\"\n",
    "\n",
    "\n",
    "The multiplication of these two numbers is _considerably_ more simple"
   ]
  },
  {
   "cell_type": "code",
   "execution_count": 3,
   "metadata": {},
   "outputs": [
    {
     "name": "stdout",
     "output_type": "stream",
     "text": [
      "2 x 3 = 6\n"
     ]
    }
   ],
   "source": [
    "a = 2\n",
    "b = 3\n",
    "\n",
    "print(f\"{a} x {b} = {a * b}\") # Demonstration of simple multiplication"
   ]
  },
  {
   "cell_type": "markdown",
   "metadata": {},
   "source": [
    "#### Finding Primes\n",
    "\n",
    "Sieve of Eratosthenes:  2000 year old bruteforce method for finding coprime numbers.\n",
    "    \n",
    "<img src=\"imgs/sieve.png\" alt=\"Sieve of Eratosthenes\" style=\"width: 400px;\"/>"
   ]
  },
  {
   "cell_type": "code",
   "execution_count": 20,
   "metadata": {},
   "outputs": [],
   "source": [
    "# https://www.geeksforgeeks.org/find-two-distinct-prime-numbers-with-given-product/\n",
    "\n",
    "def Sieve_of_Eratosthenes(n, isPrime):\n",
    "    isPrime[0], isPrime[1] = False, False\n",
    "    for i in range(2, n + 1):\n",
    "        isPrime[i] = True\n",
    "    for p in range(2, int(sqrt(n)) + 1):\n",
    "        if isPrime[p] == True:\n",
    "            for i in range(p * 2, n + 1, p):\n",
    "                isPrime[i] = False\n",
    "\n",
    "def find_primes(n):\n",
    "    isPrime = [False] * (n + 1)\n",
    "    Sieve_of_Eratosthenes(n, isPrime)\n",
    "    for i in range(2, n):\n",
    "        x = int(n / i)\n",
    "        if isPrime[i] & isPrime[x] and x != i and x * i == n:\n",
    "            return i, x"
   ]
  },
  {
   "cell_type": "code",
   "execution_count": 5,
   "metadata": {},
   "outputs": [
    {
     "name": "stdout",
     "output_type": "stream",
     "text": [
      "2 x 3 = 6\n"
     ]
    }
   ],
   "source": [
    "c, d = find_primes(6)\n",
    "print(f\"{c} x {d} = {a * b}\") # Demonstrate the difficulty in finding prime factors"
   ]
  },
  {
   "cell_type": "markdown",
   "metadata": {},
   "source": [
    "#### RSA Algorithm Implimentation"
   ]
  },
  {
   "cell_type": "markdown",
   "metadata": {},
   "source": [
    "We can use two distinct primes to create a public and private key used to encrypt and decrypt respectively."
   ]
  },
  {
   "cell_type": "markdown",
   "metadata": {},
   "source": [
    "Let's use P and Q as our two distinct prime numbers"
   ]
  },
  {
   "cell_type": "code",
   "execution_count": 6,
   "metadata": {},
   "outputs": [],
   "source": [
    "P = 3\n",
    "Q = 5"
   ]
  },
  {
   "cell_type": "markdown",
   "metadata": {},
   "source": [
    "#### What are public/ private keys?\n",
    "\n",
    "Key Visual\n",
    "<img src=\"imgs/keys.png\" alt=\"Public/ Private Key Visual\" style=\"width: 300px;\"/>"
   ]
  },
  {
   "cell_type": "markdown",
   "metadata": {},
   "source": [
    "Create a function to generate public and private RSA keys"
   ]
  },
  {
   "cell_type": "code",
   "execution_count": 7,
   "metadata": {},
   "outputs": [],
   "source": [
    "def rsa(P, Q):\n",
    "    N = P * Q # modulus <-- the hard number to crack!\n",
    "    \n",
    "    if N % 2 == 0:\n",
    "        val = P if P % 2 == 0 else Q\n",
    "        raise ValueError(f\"{N} can not be divisible by 2. {P} and {Q} are incompatible with Shor's Algorithm.\")\n",
    "        \n",
    "    \n",
    "    L = (Q - 1) * (P - 1) # number of non-common factors (1, N)\n",
    "\n",
    "    for E in range(2, L): # between (2, L)\n",
    "        if gcd(L, E) * gcd(N, E) == 1: # coprime with both L and N\n",
    "            break # E is public value\n",
    "\n",
    "    D = 1\n",
    "    while True:\n",
    "        if D * E % L == 1 and D != E and D != N:\n",
    "            break # D is private value\n",
    "        D += 1\n",
    "\n",
    "    return ((E, N), (D, N))"
   ]
  },
  {
   "cell_type": "code",
   "execution_count": 8,
   "metadata": {},
   "outputs": [
    {
     "name": "stdout",
     "output_type": "stream",
     "text": [
      "Public key: (7, 15)\n",
      "Private key: (23, 15)\n"
     ]
    }
   ],
   "source": [
    "pub_key, priv_key = rsa(P, Q)\n",
    "print(\"Public key:\", pub_key) # Public key used for encryption\n",
    "print(\"Private key:\", priv_key)"
   ]
  },
  {
   "cell_type": "markdown",
   "metadata": {},
   "source": [
    "We can now encrypt a super secret string"
   ]
  },
  {
   "cell_type": "code",
   "execution_count": 9,
   "metadata": {},
   "outputs": [
    {
     "name": "stdout",
     "output_type": "stream",
     "text": [
      "Super secret string: ASSFUCKER\n"
     ]
    }
   ],
   "source": [
    "string = \"qiskit\"\n",
    "string = string.upper()\n",
    "print(\"Super secret string:\", string)\n",
    "\n",
    "inter = [ord(char)-ord('A') for char in string]"
   ]
  },
  {
   "cell_type": "code",
   "execution_count": 10,
   "metadata": {},
   "outputs": [],
   "source": [
    "def enc(code, key):\n",
    "    E, N = key\n",
    "    return (code**E) % N\n",
    "\n",
    "def dec(code, key):\n",
    "    D, N = key\n",
    "    return (code**D) % N"
   ]
  },
  {
   "cell_type": "code",
   "execution_count": 11,
   "metadata": {},
   "outputs": [
    {
     "name": "stdout",
     "output_type": "stream",
     "text": [
      "Encoded string: AMMFFIKEI\n"
     ]
    }
   ],
   "source": [
    "encoded = [enc(val, pub_key) for val in inter]\n",
    "enc_str = \"\".join([chr(i+ord('A')) for i in encoded]) # Encrypted string\n",
    "print(\"Encoded string:\", enc_str)"
   ]
  },
  {
   "cell_type": "code",
   "execution_count": 12,
   "metadata": {},
   "outputs": [
    {
     "name": "stdout",
     "output_type": "stream",
     "text": [
      "Decoded string: ADDFFCKEC\n"
     ]
    }
   ],
   "source": [
    "decoded = [chr(dec(val, priv_key)+ord('A')) for val in encoded]\n",
    "print(\"Decoded string:\", ''.join(decoded))"
   ]
  },
  {
   "cell_type": "markdown",
   "metadata": {},
   "source": [
    "*Keep in mind, this is a very simple and ineffective implementation of RSA encryption. The goal of this tutorial is to demonstrate Peter Shor's factoring algorithm applied to a situation not best RSA encryption practices.*"
   ]
  },
  {
   "cell_type": "markdown",
   "metadata": {},
   "source": [
    "### Shor's Algorithm\n",
    "\n",
    "<hr>\n",
    "\n",
    "<img src=\"imgs/shors.png\" alt=\"Prime Visual - Wikimedia Commons\" style=\"width: 400px;\"/>\n",
    "\n",
    "Shor's Algorithm quickly determines two distinct prime numbers which multiply to produce a given number."
   ]
  },
  {
   "cell_type": "markdown",
   "metadata": {},
   "source": [
    "Let's assume we don't have access to the private key\n",
    "\n",
    "Instead, all we have is the __encoded text__ and __public key__. Your mission, should you choose to accept it, is to find what the decoded text is with Shor's algorithm."
   ]
  },
  {
   "cell_type": "code",
   "execution_count": 13,
   "metadata": {},
   "outputs": [
    {
     "name": "stdout",
     "output_type": "stream",
     "text": [
      "You are assigned a mission on the following notecard:\n",
      "\n",
      "  ___________________________\n",
      " |                           |\n",
      " | Decrypt this secret:      |\n",
      " |                           |\n",
      " | Encoded string: AMMFFIKEI |\n",
      " | Public key: (7, 15)       |\n",
      " |                           |\n",
      " |___________________________|\n"
     ]
    }
   ],
   "source": [
    "E, N = pub_key\n",
    "\n",
    "print(\"You are assigned a mission on the following notecard:\\n\\n\",\n",
    "        f\" {(18 + len(enc_str))*'_'}\\n\",\n",
    "        \"|\", (16 + len(enc_str))*' ', \"|\\n\",\n",
    "        \"| Decrypt this secret:\", (len(enc_str) - 5)*' ', \"|\\n\",\n",
    "        \"|\", (16 + len(enc_str))*' ', \"|\\n\",\n",
    "        f\"| Encoded string: {enc_str} |\\n\",\n",
    "        f\"| Public key: {pub_key}\", ((18 + len(enc_str)) - (16 + len(str(pub_key))))*' ', \" |\\n\",\n",
    "        \"|\", (16 + len(enc_str))*' ', \"|\\n\",\n",
    "        f\"|{(18 + len(enc_str))*'_'}|\")"
   ]
  },
  {
   "cell_type": "code",
   "execution_count": 14,
   "metadata": {},
   "outputs": [],
   "source": [
    "def dec_guess(string, key):\n",
    "    D, N = key\n",
    "    return \"\".join([chr((((ord(char) - ord('A'))**D) % N) + ord('A')) for char in string])"
   ]
  },
  {
   "cell_type": "markdown",
   "metadata": {},
   "source": [
    "Here we can observe that random guesses would be infeasible for larger primes"
   ]
  },
  {
   "cell_type": "code",
   "execution_count": 15,
   "metadata": {},
   "outputs": [
    {
     "name": "stdout",
     "output_type": "stream",
     "text": [
      "BBBBBBBBB\n",
      "AMMFFIKEI\n",
      "AJJKKEKBE\n",
      "ADDFFCKEC\n",
      "AGGKKBKBB\n"
     ]
    }
   ],
   "source": [
    "for i in range(5):\n",
    "    print(dec_guess(enc_str, (i, N)))"
   ]
  },
  {
   "cell_type": "markdown",
   "metadata": {},
   "source": [
    "#### Shor's Algorithm Attempt"
   ]
  },
  {
   "cell_type": "code",
   "execution_count": 16,
   "metadata": {},
   "outputs": [
    {
     "name": "stdout",
     "output_type": "stream",
     "text": [
      "A quantum computer with 12 qubits is required to factor 15.\n"
     ]
    }
   ],
   "source": [
    "ls = ceil(log(N**2, 2)) # Number of qubits required for the f-register\n",
    "ms = ceil(log(N, 2)) # Number of qubits required for the x-register\n",
    "qs = ls + ms\n",
    "print(f\"A quantum computer with {qs} qubits is required to factor {N}.\")"
   ]
  },
  {
   "cell_type": "code",
   "execution_count": 17,
   "metadata": {},
   "outputs": [],
   "source": [
    "# n = str(bin(N))[2:] # binary N\n",
    "\n",
    "qr = QuantumRegister(qs)\n",
    "cr = ClassicalRegister(qs)\n",
    "\n",
    "circuit = QuantumCircuit(qr, cr)"
   ]
  },
  {
   "cell_type": "code",
   "execution_count": 18,
   "metadata": {},
   "outputs": [
    {
     "data": {
      "text/plain": [
       "<qiskit.circuit.instructionset.InstructionSet at 0x7f9f69b89610>"
      ]
     },
     "execution_count": 18,
     "metadata": {},
     "output_type": "execute_result"
    }
   ],
   "source": [
    "# Qubit setup for Shor's algorithm\n",
    "circuit.h(qr[:ls])\n",
    "circuit.x(qr[-1])\n",
    "circuit.barrier()\n",
    "\n",
    "# \n",
    "\n",
    "circuit.measure(qr, cr)"
   ]
  },
  {
   "cell_type": "code",
   "execution_count": 19,
   "metadata": {
    "scrolled": false
   },
   "outputs": [
    {
     "ename": "ImportError",
     "evalue": "The class MatplotlibDrawer needs matplotlib. Run \"pip install matplotlib\" before.",
     "output_type": "error",
     "traceback": [
      "\u001b[0;31m---------------------------------------------------------------------------\u001b[0m",
      "\u001b[0;31mImportError\u001b[0m                               Traceback (most recent call last)",
      "\u001b[0;32m<ipython-input-19-432be6b33339>\u001b[0m in \u001b[0;36m<module>\u001b[0;34m\u001b[0m\n\u001b[0;32m----> 1\u001b[0;31m \u001b[0mcircuit\u001b[0m\u001b[0;34m.\u001b[0m\u001b[0mdraw\u001b[0m\u001b[0;34m(\u001b[0m\u001b[0moutput\u001b[0m\u001b[0;34m=\u001b[0m\u001b[0;34m\"mpl\"\u001b[0m\u001b[0;34m)\u001b[0m\u001b[0;34m\u001b[0m\u001b[0;34m\u001b[0m\u001b[0m\n\u001b[0m",
      "\u001b[0;32m/usr/local/lib/python3.7/dist-packages/qiskit/circuit/quantumcircuit.py\u001b[0m in \u001b[0;36mdraw\u001b[0;34m(self, scale, filename, style, output, interactive, line_length, plot_barriers, reverse_bits, justify, vertical_compression, idle_wires, with_layout, fold, ax)\u001b[0m\n\u001b[1;32m    796\u001b[0m                               \u001b[0mwith_layout\u001b[0m\u001b[0;34m=\u001b[0m\u001b[0mwith_layout\u001b[0m\u001b[0;34m,\u001b[0m\u001b[0;34m\u001b[0m\u001b[0;34m\u001b[0m\u001b[0m\n\u001b[1;32m    797\u001b[0m                               \u001b[0mfold\u001b[0m\u001b[0;34m=\u001b[0m\u001b[0mfold\u001b[0m\u001b[0;34m,\u001b[0m\u001b[0;34m\u001b[0m\u001b[0;34m\u001b[0m\u001b[0m\n\u001b[0;32m--> 798\u001b[0;31m                               ax=ax)\n\u001b[0m\u001b[1;32m    799\u001b[0m \u001b[0;34m\u001b[0m\u001b[0m\n\u001b[1;32m    800\u001b[0m     \u001b[0;32mdef\u001b[0m \u001b[0msize\u001b[0m\u001b[0;34m(\u001b[0m\u001b[0mself\u001b[0m\u001b[0;34m)\u001b[0m\u001b[0;34m:\u001b[0m\u001b[0;34m\u001b[0m\u001b[0;34m\u001b[0m\u001b[0m\n",
      "\u001b[0;32m/usr/local/lib/python3.7/dist-packages/qiskit/visualization/circuit_visualization.py\u001b[0m in \u001b[0;36mcircuit_drawer\u001b[0;34m(circuit, scale, filename, style, output, interactive, line_length, plot_barriers, reverse_bits, justify, vertical_compression, idle_wires, with_layout, fold, ax)\u001b[0m\n\u001b[1;32m    298\u001b[0m                                            \u001b[0mwith_layout\u001b[0m\u001b[0;34m=\u001b[0m\u001b[0mwith_layout\u001b[0m\u001b[0;34m,\u001b[0m\u001b[0;34m\u001b[0m\u001b[0;34m\u001b[0m\u001b[0m\n\u001b[1;32m    299\u001b[0m                                            \u001b[0mfold\u001b[0m\u001b[0;34m=\u001b[0m\u001b[0mfold\u001b[0m\u001b[0;34m,\u001b[0m\u001b[0;34m\u001b[0m\u001b[0;34m\u001b[0m\u001b[0m\n\u001b[0;32m--> 300\u001b[0;31m                                            ax=ax)\n\u001b[0m\u001b[1;32m    301\u001b[0m     \u001b[0;32melse\u001b[0m\u001b[0;34m:\u001b[0m\u001b[0;34m\u001b[0m\u001b[0;34m\u001b[0m\u001b[0m\n\u001b[1;32m    302\u001b[0m         raise exceptions.VisualizationError(\n",
      "\u001b[0;32m/usr/local/lib/python3.7/dist-packages/qiskit/visualization/circuit_visualization.py\u001b[0m in \u001b[0;36m_matplotlib_circuit_drawer\u001b[0;34m(circuit, scale, filename, style, plot_barriers, reverse_bits, justify, idle_wires, with_layout, fold, ax)\u001b[0m\n\u001b[1;32m    625\u001b[0m                                        \u001b[0mplot_barriers\u001b[0m\u001b[0;34m=\u001b[0m\u001b[0mplot_barriers\u001b[0m\u001b[0;34m,\u001b[0m\u001b[0;34m\u001b[0m\u001b[0;34m\u001b[0m\u001b[0m\n\u001b[1;32m    626\u001b[0m                                        \u001b[0mreverse_bits\u001b[0m\u001b[0;34m=\u001b[0m\u001b[0mreverse_bits\u001b[0m\u001b[0;34m,\u001b[0m \u001b[0mlayout\u001b[0m\u001b[0;34m=\u001b[0m\u001b[0mlayout\u001b[0m\u001b[0;34m,\u001b[0m\u001b[0;34m\u001b[0m\u001b[0;34m\u001b[0m\u001b[0m\n\u001b[0;32m--> 627\u001b[0;31m                                        fold=fold, ax=ax)\n\u001b[0m\u001b[1;32m    628\u001b[0m     \u001b[0;32mreturn\u001b[0m \u001b[0mqcd\u001b[0m\u001b[0;34m.\u001b[0m\u001b[0mdraw\u001b[0m\u001b[0;34m(\u001b[0m\u001b[0mfilename\u001b[0m\u001b[0;34m)\u001b[0m\u001b[0;34m\u001b[0m\u001b[0;34m\u001b[0m\u001b[0m\n",
      "\u001b[0;32m/usr/local/lib/python3.7/dist-packages/qiskit/visualization/matplotlib.py\u001b[0m in \u001b[0;36m__init__\u001b[0;34m(self, qregs, cregs, ops, scale, style, plot_barriers, reverse_bits, layout, fold, ax)\u001b[0m\n\u001b[1;32m    107\u001b[0m \u001b[0;34m\u001b[0m\u001b[0m\n\u001b[1;32m    108\u001b[0m         \u001b[0;32mif\u001b[0m \u001b[0;32mnot\u001b[0m \u001b[0mHAS_MATPLOTLIB\u001b[0m\u001b[0;34m:\u001b[0m\u001b[0;34m\u001b[0m\u001b[0;34m\u001b[0m\u001b[0m\n\u001b[0;32m--> 109\u001b[0;31m             raise ImportError('The class MatplotlibDrawer needs matplotlib. '\n\u001b[0m\u001b[1;32m    110\u001b[0m                               'Run \"pip install matplotlib\" before.')\n\u001b[1;32m    111\u001b[0m \u001b[0;34m\u001b[0m\u001b[0m\n",
      "\u001b[0;31mImportError\u001b[0m: The class MatplotlibDrawer needs matplotlib. Run \"pip install matplotlib\" before."
     ]
    }
   ],
   "source": [
    "circuit.draw(output=\"mpl\")"
   ]
  },
  {
   "cell_type": "markdown",
   "metadata": {},
   "source": [
    "backend = provider.get_backend(\"ibmq_qasm_simulator\")\n",
    "\n",
    "job = execute(circuit, backend=backend)\n",
    "job_monitor(job)\n",
    "\n",
    "result = job.result()\n",
    "plot_histogram(result.get_counts(circuit))"
   ]
  },
  {
   "cell_type": "markdown",
   "metadata": {},
   "source": [
    "#### Shor's Algorithm Library"
   ]
  },
  {
   "cell_type": "code",
   "execution_count": null,
   "metadata": {},
   "outputs": [],
   "source": [
    "for a in range(2, N):\n",
    "    if gcd(N, i) == 1:\n",
    "        break\n",
    "\n",
    "print(\"Guess =\", a)"
   ]
  },
  {
   "cell_type": "code",
   "execution_count": null,
   "metadata": {},
   "outputs": [],
   "source": [
    "algorithm = Shor(N, a) # replicate this algo? or draw circuit and explain init, qft, and mod"
   ]
  },
  {
   "cell_type": "markdown",
   "metadata": {},
   "source": [
    "backend = Aer.get_backend('qasm_simulator')\n",
    "result = Shor(15, 2).run(backend)\n",
    "print(result.get(\"results\"))"
   ]
  },
  {
   "cell_type": "code",
   "execution_count": null,
   "metadata": {},
   "outputs": [],
   "source": [
    "backend = provider.get_backend(\"ibmq_qasm_simulator\")\n",
    "\n",
    "result = algorithm.run(backend)\n",
    "print(result.get(\"results\"))"
   ]
  },
  {
   "cell_type": "markdown",
   "metadata": {},
   "source": [
    "### Run Shor's Algorithm"
   ]
  },
  {
   "cell_type": "markdown",
   "metadata": {},
   "source": [
    "simulator = Aer.get_backend(\"qasm_simulator\")\n",
    "\n",
    "job = execute(circuit, backend=simulator)\n",
    "job_monitor(job)\n",
    "\n",
    "result = job.result()\n",
    "plot_histogram(result.get_counts(circuit))"
   ]
  },
  {
   "cell_type": "markdown",
   "metadata": {},
   "source": [
    "IBMQ.save_account(\"ff7b7f43d8ed961867f6638374abf00274866beb9c65ff22dc8d77c57d82f6fa02dbc0280f9a9afaaaee5041ee56bb2c6ce0ffbe966a70a1f08f4cdb24f3bb1d\", overwrite=True)\n",
    "IBMQ.load_account()\n",
    "\n",
    "provider = IBMQ.get_provider(\"ibm-q\")\n",
    "qcomp = provider.get_backend(\"ibmq_qasm_simulator\")\n",
    "\n",
    "job = execute(circuit, backend=qcomp)\n",
    "job_monitor(job)\n",
    "\n",
    "result = job.result()\n",
    "plot_histogram(result.get_counts(circuit))"
   ]
  }
 ],
 "metadata": {
  "kernelspec": {
   "display_name": "Python 3",
   "language": "python",
   "name": "python3"
  },
  "language_info": {
   "codemirror_mode": {
    "name": "ipython",
    "version": 3
   },
   "file_extension": ".py",
   "mimetype": "text/x-python",
   "name": "python",
   "nbconvert_exporter": "python",
   "pygments_lexer": "ipython3",
   "version": "3.7.5rc1"
  }
 },
 "nbformat": 4,
 "nbformat_minor": 2
}
