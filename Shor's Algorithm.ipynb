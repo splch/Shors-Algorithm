{
 "cells": [
  {
   "cell_type": "markdown",
   "metadata": {},
   "source": [
    "<img src=\"imgs/qiskit.png\" alt=\"QisKit\" style=\"width: 50px;\" align=\"right\"/>\n",
    "\n",
    "# Shor's Algorithm\n",
    "\n",
    "<hr>\n",
    "\n",
    "## Teach Me Qiskit"
   ]
  },
  {
   "cell_type": "code",
   "execution_count": 1,
   "metadata": {},
   "outputs": [],
   "source": [
    "from math import gcd, sqrt # used in RSA\n",
    "\n",
    "try:\n",
    "    import qiskit\n",
    "except ImportError: # if qiskit is not installed\n",
    "    print(\"Installing Qiskit\")\n",
    "    !pip install qiskit\n",
    "    import qiskit"
   ]
  },
  {
   "cell_type": "markdown",
   "metadata": {},
   "source": [
    "### Prime Numbers\n",
    "\n",
    "<hr>\n",
    "\n",
    "<img src=\"imgs/primes.png\" alt=\"Prime Visual - Wikimedia Commons\" style=\"width: 300px;\"/>\n",
    "\n",
    "<br>\n",
    "\n",
    "|  Composite numbers  |  Prime numbers  |\n",
    "|:---:|:---:|\n",
    "|  1  |     |\n",
    "|     |  2  |\n",
    "|     |  3  |\n",
    "|  4  |     |\n",
    "|     |  5  |\n",
    "|  6  |     |\n",
    "|     |  7  |\n",
    "|  8  |     |\n",
    "|  9  |     |\n",
    "\n"
   ]
  },
  {
   "cell_type": "code",
   "execution_count": 2,
   "metadata": {},
   "outputs": [
    {
     "name": "stdout",
     "output_type": "stream",
     "text": [
      "2\n",
      "3\n",
      "5\n",
      "7\n"
     ]
    }
   ],
   "source": [
    "# https://stackoverflow.com/questions/11619942/print-series-of-prime-numbers-in-python\n",
    "\n",
    "for num in range(2, 10):\n",
    "    if all(num % i != 0 for i in range(2, num)):\n",
    "        print(num)"
   ]
  },
  {
   "cell_type": "markdown",
   "metadata": {},
   "source": [
    "### RSA Encryption\n",
    "\n",
    "<hr>\n",
    "\n",
    "<img src=\"imgs/rsa.png\" alt=\"Prime Visual - Wikimedia Commons\" style=\"width: 500px;\"/>\n",
    "\n",
    "Multiplying two numbers is simple"
   ]
  },
  {
   "cell_type": "code",
   "execution_count": 3,
   "metadata": {},
   "outputs": [
    {
     "name": "stdout",
     "output_type": "stream",
     "text": [
      "2 x 3 = 6\n"
     ]
    }
   ],
   "source": [
    "a = 2\n",
    "b = 3\n",
    "\n",
    "print(f\"{a} x {b} = {a * b}\")"
   ]
  },
  {
   "cell_type": "markdown",
   "metadata": {},
   "source": [
    "However, determining two numbers which multiplied to produce a certain number is harder\n",
    "\n",
    "<br>\n",
    "\n",
    "$a \\times b = 6$*, where a and b are prime*"
   ]
  },
  {
   "cell_type": "code",
   "execution_count": 4,
   "metadata": {},
   "outputs": [],
   "source": [
    "# https://www.geeksforgeeks.org/find-two-distinct-prime-numbers-with-given-product/\n",
    "\n",
    "def Sieve_of_Eratosthenes(n, isPrime) : \n",
    "    isPrime[0], isPrime[1] = False, False\n",
    "    for i in range(2, n + 1) : \n",
    "        isPrime[i] = True\n",
    "    for p in range(2, int(sqrt(n)) + 1) : \n",
    "        if isPrime[p] == True:\n",
    "            for i in range(p * 2, n + 1, p):\n",
    "                isPrime[i] = False\n",
    "\n",
    "def find_primes(n):\n",
    "    isPrime = [False] * (n + 1)\n",
    "    Sieve_of_Eratosthenes(n, isPrime)\n",
    "    for i in range(2, n):\n",
    "        x = int(n / i)\n",
    "        if isPrime[i] & isPrime[x] and x != i and x * i == n:\n",
    "            return i, x\n",
    "            break"
   ]
  },
  {
   "cell_type": "code",
   "execution_count": 5,
   "metadata": {},
   "outputs": [
    {
     "name": "stdout",
     "output_type": "stream",
     "text": [
      "2 x 3 = 6\n"
     ]
    }
   ],
   "source": [
    "c, d = find_primes(6)\n",
    "print(f\"{c} x {d} = {a * b}\")"
   ]
  },
  {
   "cell_type": "markdown",
   "metadata": {},
   "source": [
    "#### RSA Algorithm Implimentation"
   ]
  },
  {
   "cell_type": "markdown",
   "metadata": {},
   "source": [
    "We can use two distinct primes to create a public and private key used to encrypt and decrypt respectively."
   ]
  },
  {
   "cell_type": "markdown",
   "metadata": {},
   "source": [
    "Let's use P and Q as our two distinct prime numbers"
   ]
  },
  {
   "cell_type": "code",
   "execution_count": 6,
   "metadata": {},
   "outputs": [],
   "source": [
    "P = 5\n",
    "Q = 7"
   ]
  },
  {
   "cell_type": "markdown",
   "metadata": {},
   "source": [
    "Create a function to create public and private RSA keys"
   ]
  },
  {
   "cell_type": "code",
   "execution_count": 7,
   "metadata": {},
   "outputs": [],
   "source": [
    "def rsa(P, Q):\n",
    "    N = P * Q # modulus <-- the hard number to crack!\n",
    "\n",
    "    L = (Q - 1) * (P - 1) # number of non-common factors (1, N)\n",
    "\n",
    "    for i in range(2, L): # between (1, L)\n",
    "        if gcd(L, i) * gcd(N, i) == 1: # coprime with both L and N\n",
    "            E = i # public value\n",
    "            break\n",
    "\n",
    "    D = None\n",
    "    i = 1\n",
    "    while not D:\n",
    "        if i * E % L == 1 and i != E and i != N:\n",
    "            D = i # private value\n",
    "            break\n",
    "        i += 1\n",
    "\n",
    "    return ((E, N), (D, N))"
   ]
  },
  {
   "cell_type": "code",
   "execution_count": 8,
   "metadata": {},
   "outputs": [
    {
     "name": "stdout",
     "output_type": "stream",
     "text": [
      "Public key: (11, 35)\n",
      "Private key: (59, 35)\n"
     ]
    }
   ],
   "source": [
    "pub_key, priv_key = rsa(P, Q)\n",
    "print(\"Public key:\", pub_key)\n",
    "print(\"Private key:\", priv_key)"
   ]
  },
  {
   "cell_type": "markdown",
   "metadata": {},
   "source": [
    "We can now encrypt a super secret string"
   ]
  },
  {
   "cell_type": "code",
   "execution_count": 9,
   "metadata": {},
   "outputs": [
    {
     "name": "stdout",
     "output_type": "stream",
     "text": [
      "Super secret string: QISKIT\n"
     ]
    }
   ],
   "source": [
    "string = \"qiskit\"\n",
    "string = string.upper()\n",
    "print(\"Super secret string:\", string)\n",
    "\n",
    "inter = [ord(char)-ord('A') for char in string]"
   ]
  },
  {
   "cell_type": "code",
   "execution_count": 10,
   "metadata": {},
   "outputs": [],
   "source": [
    "def enc(code, key):\n",
    "    E, N = key\n",
    "    return (code**E) % N\n",
    "\n",
    "def dec(code, key):\n",
    "    D, N = key\n",
    "    return (code**D) % N"
   ]
  },
  {
   "cell_type": "code",
   "execution_count": 11,
   "metadata": {},
   "outputs": [
    {
     "name": "stdout",
     "output_type": "stream",
     "text": [
      "Encoded string: LWCFWY\n"
     ]
    }
   ],
   "source": [
    "encoded = [enc(val, pub_key) for val in inter]\n",
    "print(\"Encoded string:\", \"\".join([chr(i+ord('A')) for i in encoded]))"
   ]
  },
  {
   "cell_type": "code",
   "execution_count": 12,
   "metadata": {},
   "outputs": [
    {
     "name": "stdout",
     "output_type": "stream",
     "text": [
      "Decoded string: QISKIT\n"
     ]
    }
   ],
   "source": [
    "decoded = [chr(dec(val, priv_key)+ord('A')) for val in encoded]\n",
    "print(\"Decoded string:\", ''.join(decoded))"
   ]
  },
  {
   "cell_type": "markdown",
   "metadata": {},
   "source": [
    "### Shor's Algorithm\n",
    "\n",
    "<hr>\n",
    "\n",
    "<img src=\"imgs/shors.png\" alt=\"Prime Visual - Wikimedia Commons\" style=\"width: 400px;\"/>\n",
    "\n",
    "Shor's Algorithm quickly determines two distinct prime numbers which multiply to produce a certain number."
   ]
  },
  {
   "cell_type": "code",
   "execution_count": null,
   "metadata": {},
   "outputs": [],
   "source": []
  }
 ],
 "metadata": {
  "kernelspec": {
   "display_name": "Python 3",
   "language": "python",
   "name": "python3"
  },
  "language_info": {
   "codemirror_mode": {
    "name": "ipython",
    "version": 3
   },
   "file_extension": ".py",
   "mimetype": "text/x-python",
   "name": "python",
   "nbconvert_exporter": "python",
   "pygments_lexer": "ipython3",
   "version": "3.7.3"
  }
 },
 "nbformat": 4,
 "nbformat_minor": 2
}
