{
 "cells": [
  {
   "cell_type": "markdown",
   "metadata": {},
   "source": [
    "![QBSS](imgs/header.png)\n",
    "\n",
    "<hr>\n",
    "\n",
    "[Spencer Churchill](https://splch.github.io)"
   ]
  },
  {
   "cell_type": "code",
   "execution_count": 1,
   "metadata": {
    "scrolled": false
   },
   "outputs": [],
   "source": [
    "# imports for RSA\n",
    "from numpy import pi, gcd\n",
    "from numpy.random import seed, randint\n",
    "\n",
    "# imports for Shor\n",
    "from qiskit import QuantumCircuit, Aer, execute\n",
    "from qiskit.visualization import plot_histogram\n",
    "from qiskit.circuit.library import QFT"
   ]
  },
  {
   "cell_type": "markdown",
   "metadata": {},
   "source": [
    "# Introduction\n",
    "\n",
    "“I have lucrative news to share before it goes public... don’t worry, I encrypted the listing. See you soon.” \n",
    "\n",
    "You look up to see a man hastily exit the NY subway, leaving behind a scrap of paper in the aisle. Curious, you read the contents of the slip:\n",
    "\n",
    "![Paper Scrap](imgs/scrap.png)\n",
    "\n",
    "“Buy `213` stock!”\n",
    "\n",
    "On the bottom, you see what you can only assume is the coprime of an RSA key, `, 15)`"
   ]
  },
  {
   "cell_type": "code",
   "execution_count": 2,
   "metadata": {},
   "outputs": [],
   "source": [
    "code = 213\n",
    "N = 15"
   ]
  },
  {
   "cell_type": "code",
   "execution_count": 3,
   "metadata": {
    "scrolled": true
   },
   "outputs": [
    {
     "name": "stdout",
     "output_type": "stream",
     "text": [
      "You know 3 things:\n",
      "\t1. a company is going to report high earnings, \n",
      "\t2. that company's encrypted stock listing is `213`, and \n",
      "\t3. the key's coprime, N, is 15.\n"
     ]
    }
   ],
   "source": [
    "print(f\"You know 3 things:\\n\\t1. a company is going to report high earnings,\",\n",
    "      f\"\\n\\t2. that company's encrypted stock listing is `{code}`, and\",\n",
    "      f\"\\n\\t3. the key's coprime, N, is {N}.\")"
   ]
  },
  {
   "cell_type": "markdown",
   "metadata": {},
   "source": [
    "# RSA Algorithm"
   ]
  },
  {
   "cell_type": "code",
   "execution_count": 4,
   "metadata": {},
   "outputs": [],
   "source": [
    "def rsa(P, Q):\n",
    "    N = P * Q # modulus <-- the hard number to crack!\n",
    "\n",
    "    if N % 2 == 0:\n",
    "        val = P if P % 2 == 0 else Q\n",
    "        raise ValueError(f\"{N} can not be divisible by 2.\",\n",
    "                         f\"{P} and {Q} are incompatible with Shor's Algorithm.\")\n",
    "\n",
    "    L = (Q - 1) * (P - 1) # number of non-common factors (1, N)\n",
    "\n",
    "    for E in range(2, L): # between [2, L)\n",
    "        if gcd(L, E) * gcd(N, E) == 1: # coprime with both L and N\n",
    "            break # E is public value\n",
    "\n",
    "    D = 1\n",
    "    while True:\n",
    "        if D * E % L == 1 and D != E and D != N:\n",
    "            break # D is private value\n",
    "        D += 1\n",
    "\n",
    "    return ((E, N), (D, N))\n",
    "\n",
    "def dec(code, key):\n",
    "    D, N = key\n",
    "    return \"\".join([chr(((d**D) % N) + ord('A'))\n",
    "                    for d in [int(d) for d in str(code)]])"
   ]
  },
  {
   "cell_type": "markdown",
   "metadata": {
    "scrolled": true
   },
   "source": [
    "The prospect of cracking an insider trade is too compelling to ignore, so you try to guess the private key."
   ]
  },
  {
   "cell_type": "code",
   "execution_count": 5,
   "metadata": {},
   "outputs": [
    {
     "name": "stdout",
     "output_type": "stream",
     "text": [
      "Guesses:\n",
      "\t1. BBB\n",
      "\t2. EBJ\n",
      "\t3. BBG\n"
     ]
    }
   ],
   "source": [
    "P = Q = 0\n",
    "\n",
    "print(\"Guesses:\")\n",
    "for i in range(0, 5, 2):\n",
    "    print(f\"\\t{i//2 + 1}. {dec(code, (i, N))}\")"
   ]
  },
  {
   "cell_type": "markdown",
   "metadata": {},
   "source": [
    "However, RSA is too secure to simply be guessed. The asymmetric modular function is constructed in such a way as to only allow the private key to unlock the encryption. The scrap only has the coprime factor of the key though.\n",
    "\n",
    "![RSA Keys](imgs/keys.png)\n",
    "\n",
    "The only way to read the listing would be to\n",
    "\n",
    "1. factor the coprime number,\n",
    "2. use those factors to generate the private key,\n",
    "3. then decrypt the listing with the private key.\n",
    "\n",
    "Luckily, you attended Abe's lecture on Shor's algorithm and know exactly how to begin!"
   ]
  },
  {
   "cell_type": "markdown",
   "metadata": {},
   "source": [
    "# Shor's Algorithm\n",
    "\n",
    "You review and write out each step from the notes"
   ]
  },
  {
   "cell_type": "markdown",
   "metadata": {},
   "source": [
    "## Pick an integer, $a$, such that $1 < a < N$ and $gcd(a, N) = 1$."
   ]
  },
  {
   "cell_type": "code",
   "execution_count": 6,
   "metadata": {},
   "outputs": [
    {
     "name": "stdout",
     "output_type": "stream",
     "text": [
      "1 < 7 < 15, True\n"
     ]
    }
   ],
   "source": [
    "seed(1)\n",
    "\n",
    "a = randint(2, N) # 1 < a < N\n",
    "\n",
    "if gcd(a, N) == 1: # a shares no factors\n",
    "    print(f\"{1} < {a} < {N}, {1 < a < N}\")\n",
    "else: # a shares a factor\n",
    "    P = gcd(a, N)\n",
    "    Q = N // gcd(a, N)\n",
    "    print(f\"P = {P}\\nQ = {Q}\\n\\n\",\n",
    "          f\"{P} x {Q} = {N}, {P * Q == N}\\n\")\n",
    "    print(\"You got lucky! You can skip to the Decypting 213 section, I guess. 😂\")"
   ]
  },
  {
   "cell_type": "markdown",
   "metadata": {},
   "source": [
    "## Find the period of $$f(x) = a^x \\text{ mod } N\\text{, where x is the period of the function }$$\n",
    "\n",
    "This is when you connect to your [quantum computer](https://quantum-computing.ibm.com/) and begin making your period-finding circuit.\n",
    "\n",
    "![Quantum Circuit](imgs/circuit.png)\n",
    "\n",
    "**First**, you notice the measurement qubits, $\\vert0\\rangle^{\\otimes n}$, are all being initialized with Hadamard ($H$) gates and the target qubits are being initialized at $\\vert1\\rangle^{\\otimes n}$."
   ]
  },
  {
   "cell_type": "code",
   "execution_count": 7,
   "metadata": {},
   "outputs": [],
   "source": [
    "def initialize_qubits(qc, n, m):\n",
    "    qc.h(range(n)) # apply hadamard gates\n",
    "    qc.x(n+m-1) # set qubit to 1"
   ]
  },
  {
   "cell_type": "markdown",
   "metadata": {},
   "source": [
    "**Second**, you see U gates applying a unitary operator, $U(x) = a^x \\text{ mod } N$, on the target qubits controlled by the measurement qubits."
   ]
  },
  {
   "cell_type": "code",
   "execution_count": 8,
   "metadata": {},
   "outputs": [
    {
     "name": "stdout",
     "output_type": "stream",
     "text": [
      "Which in your case is\n",
      "\tU(x) = a^x mod 15\n"
     ]
    }
   ],
   "source": [
    "print(f\"Which in your case is\\n\\tU(x) = a^x mod {N}\")"
   ]
  },
  {
   "cell_type": "code",
   "execution_count": 9,
   "metadata": {},
   "outputs": [],
   "source": [
    "def a_x_mod15(a, x):\n",
    "    if a not in [2,7,8,11,13]:\n",
    "        raise ValueError(\"'a' must be 2,7,8,11 or 13\")\n",
    "    U = QuantumCircuit(4)        \n",
    "    for iteration in range(x):\n",
    "        if a in [2,13]:\n",
    "            U.swap(0,1)\n",
    "            U.swap(1,2)\n",
    "            U.swap(2,3)\n",
    "        if a in [7,8]:\n",
    "            U.swap(2,3)\n",
    "            U.swap(1,2)\n",
    "            U.swap(0,1)\n",
    "        if a == 11:\n",
    "            U.swap(1,3)\n",
    "            U.swap(0,2)\n",
    "        if a in [7,11,13]:\n",
    "            for q in range(4):\n",
    "                U.x(q)\n",
    "    U = U.to_gate()\n",
    "    U.name = f\"U({x})\"\n",
    "    c_U = U.control()\n",
    "    return c_U"
   ]
  },
  {
   "cell_type": "code",
   "execution_count": 10,
   "metadata": {},
   "outputs": [],
   "source": [
    "def modular_exponentiation(qc, n, m, a):\n",
    "    for x in range(n):\n",
    "        exponent = 2**x\n",
    "        qc.append(a_x_mod15(a, exponent), \n",
    "                     [x] + list(range(n, n+m)))"
   ]
  },
  {
   "cell_type": "markdown",
   "metadata": {},
   "source": [
    "**Third**, you perform an inverse quantum Fourier transform on the measurement qubits."
   ]
  },
  {
   "cell_type": "code",
   "execution_count": 11,
   "metadata": {},
   "outputs": [],
   "source": [
    "def apply_iqft(qc, measurement_qubits):\n",
    "    qc.append(QFT(len(measurement_qubits),\n",
    "                             do_swaps=False).inverse(),\n",
    "                         measurement_qubits)"
   ]
  },
  {
   "cell_type": "markdown",
   "metadata": {},
   "source": [
    "**Fourth**, you measure the measurement qubits to hopefully return an exponent, $x$, which satisfies $f(x) = a^x \\text{ mod } N$."
   ]
  },
  {
   "cell_type": "code",
   "execution_count": 12,
   "metadata": {},
   "outputs": [],
   "source": [
    "def measure(qc, n):\n",
    "    qc.measure(n, n)"
   ]
  },
  {
   "cell_type": "markdown",
   "metadata": {},
   "source": [
    "Finally, you assemble the circuit,"
   ]
  },
  {
   "cell_type": "code",
   "execution_count": 13,
   "metadata": {},
   "outputs": [],
   "source": [
    "def period_finder(n, m, a):\n",
    "    \n",
    "    # set up quantum circuit\n",
    "    qc = QuantumCircuit(n+m, n)\n",
    "    \n",
    "    # initialize the qubits\n",
    "    initialize_qubits(qc, n, m)\n",
    "    qc.barrier()\n",
    "\n",
    "    # apply modular exponentiation\n",
    "    modular_exponentiation(qc, n, m, a)\n",
    "    qc.barrier()\n",
    "\n",
    "    # apply inverse QFT\n",
    "    apply_iqft(qc, range(n))\n",
    "    qc.barrier()\n",
    "\n",
    "    # measure the n measurement qubits\n",
    "    measure(qc, range(n))\n",
    "    \n",
    "    return qc"
   ]
  },
  {
   "cell_type": "markdown",
   "metadata": {},
   "source": [
    "run it,"
   ]
  },
  {
   "cell_type": "code",
   "execution_count": 14,
   "metadata": {
    "scrolled": false
   },
   "outputs": [
    {
     "data": {
      "image/png": "[encoded data removed]",
      "text/plain": [
       "<Figure size 1020.99x565.88 with 1 Axes>"
      ]
     },
     "execution_count": 14,
     "metadata": {},
     "output_type": "execute_result"
    }
   ],
   "source": [
    "n = 4; m = 4\n",
    "\n",
    "qc = period_finder(n, m, a)\n",
    "qc.draw(output='mpl')"
   ]
  },
  {
   "cell_type": "markdown",
   "metadata": {},
   "source": [
    "and return possible exponents for period finding."
   ]
  },
  {
   "cell_type": "code",
   "execution_count": 15,
   "metadata": {
    "scrolled": false
   },
   "outputs": [
    {
     "data": {
      "image/png": "[encoded data removed]",
      "text/plain": [
       "<Figure size 504x360 with 1 Axes>"
      ]
     },
     "execution_count": 15,
     "metadata": {},
     "output_type": "execute_result"
    }
   ],
   "source": [
    "simulator = Aer.get_backend('qasm_simulator')\n",
    "counts = execute(qc, backend=simulator).result().get_counts(qc)\n",
    "\n",
    "plot_histogram(counts)"
   ]
  },
  {
   "cell_type": "code",
   "execution_count": 16,
   "metadata": {},
   "outputs": [
    {
     "name": "stdout",
     "output_type": "stream",
     "text": [
      "Measured periods:\t0\t4\t8\t12\t"
     ]
    }
   ],
   "source": [
    "# convert and add binary periods to list\n",
    "counts_dec = sorted([int(measured_value[::-1], 2)\n",
    "                     for measured_value in counts])\n",
    "\n",
    "print(\"Measured periods:\", end='\\t')\n",
    "for measured_value in counts_dec:\n",
    "    print(measured_value, end='\\t')"
   ]
  },
  {
   "cell_type": "markdown",
   "metadata": {},
   "source": [
    "# Factoring N"
   ]
  },
  {
   "cell_type": "markdown",
   "metadata": {},
   "source": [
    "Now, you sort through the possible exponents, finding those which satisfy 2 constraints:\n",
    "\n",
    "1. the exponent, $x$, must be even and\n",
    "2. $a^{\\frac x2} + 1 \\neq 0 \\text{ mod } N$"
   ]
  },
  {
   "cell_type": "code",
   "execution_count": 17,
   "metadata": {},
   "outputs": [],
   "source": [
    "periods = []\n",
    "\n",
    "for measured_value in counts_dec:\n",
    "    if measured_value % 2 == 0: # x is even\n",
    "        if (int((a ** (measured_value/2))) + 1) % N != 0:\n",
    "            periods.append(measured_value)"
   ]
  },
  {
   "cell_type": "markdown",
   "metadata": {},
   "source": [
    "Using an applicable period, $x$, you can find a nontrivial factors, $P$ and $Q$, of $N$ with $$gcd(a^{\\frac x2} \\pm 1, N)$$"
   ]
  },
  {
   "cell_type": "code",
   "execution_count": 18,
   "metadata": {},
   "outputs": [
    {
     "name": "stdout",
     "output_type": "stream",
     "text": [
      "P = 3\n",
      "Q = 5\n",
      "\n",
      " 3 x 5 = 15, True\n"
     ]
    }
   ],
   "source": [
    "factors = set()\n",
    "\n",
    "for x in periods:\n",
    "    guesses = [gcd(int((a ** (measured_value/2))) + 1, N),\n",
    "               gcd(int((a ** (measured_value/2))) - 1, N)]\n",
    "    for guess in guesses:\n",
    "        # ignore trivial factors\n",
    "        if guess != 1 and guess != N and N % guess == 0:\n",
    "            factors.add(guess)\n",
    "\n",
    "if len(factors):\n",
    "    P = factors.pop()\n",
    "    Q = factors.pop() if len(factors) else N // P\n",
    "    print(f\"P = {P}\\nQ = {Q}\\n\\n\",\n",
    "          f\"{P} x {Q} = {N}, {P * Q == N}\")\n",
    "else:\n",
    "    print(\"Shor's Algorithm Failed. Choose a different 'a'.\")"
   ]
  },
  {
   "cell_type": "markdown",
   "metadata": {},
   "source": [
    "# Decrypting `213`"
   ]
  },
  {
   "cell_type": "markdown",
   "metadata": {},
   "source": [
    "This is the moment you've been waiting for! Quickly, you use the factors $P$ and $Q$ to generate the incomplete private key."
   ]
  },
  {
   "cell_type": "code",
   "execution_count": 19,
   "metadata": {
    "scrolled": true
   },
   "outputs": [
    {
     "name": "stdout",
     "output_type": "stream",
     "text": [
      "Using RSA and Shor's Algorithm, you determine the private key to be:\n",
      "\t(23, 15)\n"
     ]
    }
   ],
   "source": [
    "_, priv_key = rsa(P, Q)\n",
    "print(\"Using RSA and Shor's Algorithm,\",\n",
    "      f\"you determine the private key to be:\\n\\t{priv_key}\")"
   ]
  },
  {
   "cell_type": "markdown",
   "metadata": {},
   "source": [
    "Descrypting the listing is only one function away now... You hesitate, but eventually run the cell below."
   ]
  },
  {
   "cell_type": "code",
   "execution_count": 20,
   "metadata": {},
   "outputs": [
    {
     "name": "stdout",
     "output_type": "stream",
     "text": [
      "You learn that the decrypted listing is IBM!\n"
     ]
    }
   ],
   "source": [
    "dec_str = dec(code, priv_key)\n",
    "print(f\"You learn that the decrypted listing is {dec_str}!\")"
   ]
  },
  {
   "cell_type": "markdown",
   "metadata": {},
   "source": [
    "Being the great quantum programmer you are, you decide (not) to buy the stock. Knowing you did the right thing, you enjoy the rest of your day.\n",
    "\n",
    "*Tune in next week to learn how to use Grover's algorithm to search through your wallet!*"
   ]
  },
  {
   "cell_type": "markdown",
   "metadata": {},
   "source": [
    "Thank you for reading this story! I had the privilege of attending Abe Asfaw's lectures on Shor's Algorithm during the Qiskit Global Summer School. By the fourth day, we were assigned a lab factoring the coprime 15. This inspired me to demonstrate Shor's algorithm applied to a \"realistic\" situation. I spent two weeks of my quarantine having fun and learning so much from the many lecturers, mentors, and peers contributing on Crowdcast and Discord. If you'd like to learn more about Shor's algorithm (under the hood), check out the Qiskit Textbook.\n",
    "\n",
    "Thank you again to everyone who made the Qiskit Global Summer School possible and those who enjoyed reading this blog."
   ]
  },
  {
   "cell_type": "markdown",
   "metadata": {},
   "source": [
    "# Sources\n",
    "\n",
    "- [RSA Tutorial](https://hackernoon.com/how-does-rsa-work-f44918df914b)\n",
    "- [Qiskit Textbook - Shor's Algorithm](https://qiskit.org/textbook/ch-algorithms/shor.html)\n",
    "- [Qiskit Lecture](https://www.crowdcast.io/e/qgss-day4)\n",
    "- [Period Finding Steps](https://en.wikipedia.org/wiki/Shor%27s_algorithm#Procedure)\n"
   ]
  }
 ],
 "metadata": {
  "kernelspec": {
   "display_name": "Python 3",
   "language": "python",
   "name": "python3"
  },
  "language_info": {
   "codemirror_mode": {
    "name": "ipython",
    "version": 3
   },
   "file_extension": ".py",
   "mimetype": "text/x-python",
   "name": "python",
   "nbconvert_exporter": "python",
   "pygments_lexer": "ipython3",
   "version": "3.7.7"
  }
 },
 "nbformat": 4,
 "nbformat_minor": 2
}
